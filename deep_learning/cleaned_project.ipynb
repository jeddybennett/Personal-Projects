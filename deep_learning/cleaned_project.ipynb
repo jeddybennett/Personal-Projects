{
  "cells": [
    {
      "cell_type": "code",
      "source": [
        "from google.colab import drive\n",
        "drive.mount('/content/drive')"
      ],
      "metadata": {
        "colab": {
          "base_uri": "https://localhost:8080/"
        },
        "id": "ULBCagsQ3FG_",
        "outputId": "6b14675b-229f-4c3c-c6f3-756fbab670d8"
      },
      "execution_count": 1,
      "outputs": [
        {
          "output_type": "stream",
          "name": "stdout",
          "text": [
            "Drive already mounted at /content/drive; to attempt to forcibly remount, call drive.mount(\"/content/drive\", force_remount=True).\n"
          ]
        }
      ]
    },
    {
      "cell_type": "code",
      "source": [
        "%cd /content/drive/MyDrive/deep_learning\n",
        "!pip install cptac==1.1.0"
      ],
      "metadata": {
        "colab": {
          "base_uri": "https://localhost:8080/"
        },
        "id": "60W8c00O3Jw0",
        "outputId": "bcb809f8-f235-46a3-f14d-f806b1686294"
      },
      "execution_count": 2,
      "outputs": [
        {
          "output_type": "stream",
          "name": "stdout",
          "text": [
            "/content/drive/MyDrive/deep_learning\n",
            "Requirement already satisfied: cptac==1.1.0 in /usr/local/lib/python3.10/dist-packages (1.1.0)\n",
            "Requirement already satisfied: numpy>=1.16.3 in /usr/local/lib/python3.10/dist-packages (from cptac==1.1.0) (1.26.4)\n",
            "Requirement already satisfied: pandas>=1.2.0 in /usr/local/lib/python3.10/dist-packages (from cptac==1.1.0) (2.2.2)\n",
            "Requirement already satisfied: requests>=2.21.0 in /usr/local/lib/python3.10/dist-packages (from cptac==1.1.0) (2.32.3)\n",
            "Requirement already satisfied: beautifulsoup4>=4.7.1 in /usr/local/lib/python3.10/dist-packages (from cptac==1.1.0) (4.12.3)\n",
            "Requirement already satisfied: scipy>=1.2.1 in /usr/local/lib/python3.10/dist-packages (from cptac==1.1.0) (1.13.1)\n",
            "Requirement already satisfied: urllib3>=1.24.2 in /usr/local/lib/python3.10/dist-packages (from cptac==1.1.0) (2.3.0)\n",
            "Requirement already satisfied: openpyxl>=2.6.0 in /usr/local/lib/python3.10/dist-packages (from cptac==1.1.0) (3.1.5)\n",
            "Requirement already satisfied: packaging>=19.2 in /usr/local/lib/python3.10/dist-packages (from cptac==1.1.0) (24.2)\n",
            "Requirement already satisfied: xlrd>=2.0.1 in /usr/local/lib/python3.10/dist-packages (from cptac==1.1.0) (2.0.1)\n",
            "Requirement already satisfied: statsmodels>=0.10.0 in /usr/local/lib/python3.10/dist-packages (from cptac==1.1.0) (0.14.4)\n",
            "Requirement already satisfied: flask>=1.1.0 in /usr/local/lib/python3.10/dist-packages (from cptac==1.1.0) (3.1.0)\n",
            "Requirement already satisfied: gtfparse>=1.2.1 in /usr/local/lib/python3.10/dist-packages (from cptac==1.1.0) (2.5.0)\n",
            "Requirement already satisfied: mygene>=3.2.2 in /usr/local/lib/python3.10/dist-packages (from cptac==1.1.0) (3.2.2)\n",
            "Requirement already satisfied: soupsieve>1.2 in /usr/local/lib/python3.10/dist-packages (from beautifulsoup4>=4.7.1->cptac==1.1.0) (2.6)\n",
            "Requirement already satisfied: Werkzeug>=3.1 in /usr/local/lib/python3.10/dist-packages (from flask>=1.1.0->cptac==1.1.0) (3.1.3)\n",
            "Requirement already satisfied: Jinja2>=3.1.2 in /usr/local/lib/python3.10/dist-packages (from flask>=1.1.0->cptac==1.1.0) (3.1.5)\n",
            "Requirement already satisfied: itsdangerous>=2.2 in /usr/local/lib/python3.10/dist-packages (from flask>=1.1.0->cptac==1.1.0) (2.2.0)\n",
            "Requirement already satisfied: click>=8.1.3 in /usr/local/lib/python3.10/dist-packages (from flask>=1.1.0->cptac==1.1.0) (8.1.8)\n",
            "Requirement already satisfied: blinker>=1.9 in /usr/local/lib/python3.10/dist-packages (from flask>=1.1.0->cptac==1.1.0) (1.9.0)\n",
            "Requirement already satisfied: polars<0.21.0,>=0.20.2 in /usr/local/lib/python3.10/dist-packages (from gtfparse>=1.2.1->cptac==1.1.0) (0.20.31)\n",
            "Requirement already satisfied: pyarrow<14.1.0,>=14.0.2 in /usr/local/lib/python3.10/dist-packages (from gtfparse>=1.2.1->cptac==1.1.0) (14.0.2)\n",
            "Requirement already satisfied: biothings-client>=0.2.6 in /usr/local/lib/python3.10/dist-packages (from mygene>=3.2.2->cptac==1.1.0) (0.3.1)\n",
            "Requirement already satisfied: et-xmlfile in /usr/local/lib/python3.10/dist-packages (from openpyxl>=2.6.0->cptac==1.1.0) (2.0.0)\n",
            "Requirement already satisfied: python-dateutil>=2.8.2 in /usr/local/lib/python3.10/dist-packages (from pandas>=1.2.0->cptac==1.1.0) (2.8.2)\n",
            "Requirement already satisfied: pytz>=2020.1 in /usr/local/lib/python3.10/dist-packages (from pandas>=1.2.0->cptac==1.1.0) (2024.2)\n",
            "Requirement already satisfied: tzdata>=2022.7 in /usr/local/lib/python3.10/dist-packages (from pandas>=1.2.0->cptac==1.1.0) (2024.2)\n",
            "Requirement already satisfied: charset-normalizer<4,>=2 in /usr/local/lib/python3.10/dist-packages (from requests>=2.21.0->cptac==1.1.0) (3.4.1)\n",
            "Requirement already satisfied: idna<4,>=2.5 in /usr/local/lib/python3.10/dist-packages (from requests>=2.21.0->cptac==1.1.0) (3.10)\n",
            "Requirement already satisfied: certifi>=2017.4.17 in /usr/local/lib/python3.10/dist-packages (from requests>=2.21.0->cptac==1.1.0) (2024.12.14)\n",
            "Requirement already satisfied: patsy>=0.5.6 in /usr/local/lib/python3.10/dist-packages (from statsmodels>=0.10.0->cptac==1.1.0) (1.0.1)\n",
            "Requirement already satisfied: MarkupSafe>=2.0 in /usr/local/lib/python3.10/dist-packages (from Jinja2>=3.1.2->flask>=1.1.0->cptac==1.1.0) (3.0.2)\n",
            "Requirement already satisfied: six>=1.5 in /usr/local/lib/python3.10/dist-packages (from python-dateutil>=2.8.2->pandas>=1.2.0->cptac==1.1.0) (1.17.0)\n"
          ]
        }
      ]
    },
    {
      "cell_type": "code",
      "execution_count": 3,
      "metadata": {
        "id": "LaFN0FwA2t8q"
      },
      "outputs": [],
      "source": [
        "import tokens_data as t\n",
        "import models as m\n",
        "import get_data as get_data\n",
        "import train_predict\n",
        "\n",
        "import random\n",
        "import numpy as np\n",
        "import pandas as pd\n",
        "import matplotlib.pyplot as plt\n",
        "\n",
        "import torch\n",
        "import torch.nn as nn\n",
        "import torch.nn.functional as F\n",
        "from torch.utils.data import Dataset, DataLoader\n",
        "from torch.autograd import Variable\n",
        "from tqdm import tqdm\n",
        "\n",
        "\n",
        "from sklearn.impute import SimpleImputer\n",
        "from sklearn.decomposition import PCA\n",
        "from sklearn.model_selection import train_test_split\n",
        "from sklearn.preprocessing import StandardScaler\n",
        "from sklearn.metrics import classification_report, accuracy_score\n",
        "from sklearn.preprocessing import LabelEncoder\n",
        "from sklearn.utils.class_weight import compute_class_weight"
      ]
    },
    {
      "cell_type": "markdown",
      "metadata": {
        "id": "mrhn_C2B2t8r"
      },
      "source": [
        "# Data Collection and Cleaning"
      ]
    },
    {
      "cell_type": "code",
      "execution_count": 4,
      "metadata": {
        "colab": {
          "base_uri": "https://localhost:8080/"
        },
        "id": "YxeZu_DE2t8s",
        "outputId": "bb0c5789-5d4b-4ed7-c85a-92ebc061c106"
      },
      "outputs": [
        {
          "output_type": "stream",
          "name": "stdout",
          "text": [
            "Downloading CPTAC datasets. This may take a while depending on network speed...\n",
            "Checking that luad index is up-to-date...\r"
          ]
        },
        {
          "output_type": "stream",
          "name": "stderr",
          "text": [
            "cptac warning: Your version of cptac (1.1.0) is out-of-date. Latest is 1.5.14. Please run 'pip install --upgrade cptac' to update it. (/usr/lib/python3.10/threading.py, line 953)\n"
          ]
        },
        {
          "output_type": "stream",
          "name": "stdout",
          "text": [
            "All datasets have been downloaded.\n",
            "Loading CPTAC datasets into memory...\n"
          ]
        },
        {
          "output_type": "stream",
          "name": "stderr",
          "text": [
            "/usr/local/lib/python3.10/dist-packages/cptac/ovarian.py:148: FutureWarning: Downcasting behavior in `replace` is deprecated and will be removed in a future version. To retain the old behavior, explicitly call `result.infer_objects(copy=False)`. To opt-in to the future behavior, set `pd.set_option('future.no_silent_downcasting', True)`\n",
            "  df = df.replace(nan_equivalents, np.nan)\n"
          ]
        },
        {
          "output_type": "stream",
          "name": "stdout",
          "text": [
            "All datasets have been loaded.\n",
            "Combining transcriptomics and proteomics data...\n"
          ]
        }
      ],
      "source": [
        "data = get_data.data_collection()\n",
        "data.download_data()\n",
        "data.load_data()\n",
        "data.combine_data(individual = True)\n",
        "\n",
        "all_transcriptome_data = data.transcriptome\n",
        "all_proteome_data = data.proteome"
      ]
    },
    {
      "cell_type": "markdown",
      "metadata": {
        "id": "ztASpXVI2t8t"
      },
      "source": [
        "# Model Training"
      ]
    },
    {
      "cell_type": "code",
      "execution_count": 5,
      "metadata": {
        "id": "1hqujwU22t8t"
      },
      "outputs": [],
      "source": [
        "device = data.device"
      ]
    },
    {
      "cell_type": "code",
      "execution_count": 6,
      "metadata": {
        "colab": {
          "base_uri": "https://localhost:8080/"
        },
        "id": "vw8jhQIr2t8t",
        "outputId": "a173b423-d52a-4085-a0b0-97c453b9ab0d"
      },
      "outputs": [
        {
          "output_type": "stream",
          "name": "stderr",
          "text": [
            "<ipython-input-6-45d66b2fe7d2>:5: FutureWarning: Downcasting object dtype arrays on .fillna, .ffill, .bfill is deprecated and will change in a future version. Call result.infer_objects(copy=False) instead. To opt-in to the future behavior, set `pd.set_option('future.no_silent_downcasting', True)`\n",
            "  all_transcriptome_data = all_transcriptome_data.fillna(0)\n",
            "<ipython-input-6-45d66b2fe7d2>:6: FutureWarning: Downcasting object dtype arrays on .fillna, .ffill, .bfill is deprecated and will change in a future version. Call result.infer_objects(copy=False) instead. To opt-in to the future behavior, set `pd.set_option('future.no_silent_downcasting', True)`\n",
            "  all_proteome_data = all_proteome_data.fillna(0)\n"
          ]
        }
      ],
      "source": [
        "common_samples = all_transcriptome_data.index.intersection(all_proteome_data.index)\n",
        "all_transcriptome_data = all_transcriptome_data.loc[common_samples]\n",
        "all_proteome_data = all_proteome_data.loc[common_samples]\n",
        "\n",
        "all_transcriptome_data = all_transcriptome_data.fillna(0)\n",
        "all_proteome_data = all_proteome_data.fillna(0)\n",
        "\n",
        "all_transcriptome_data = all_transcriptome_data.drop('Cancer', axis = 1)\n",
        "all_proteome_data = all_proteome_data.drop('Cancer', axis = 1)\n",
        "\n",
        "gene_array = all_transcriptome_data.astype(float).to_numpy()\n",
        "protein_array = all_proteome_data.astype(float).to_numpy()\n",
        "\n",
        "gene_tensor = torch.tensor(gene_array, dtype=torch.float32)\n",
        "protein_tensor = torch.tensor(protein_array, dtype=torch.float32)\n",
        "\n",
        "num_samples, num_genes = gene_tensor.shape\n",
        "num_samples, num_proteins = protein_tensor.shape\n",
        "\n",
        "embedding_dim = 128\n",
        "\n",
        "gene_embedding = nn.Embedding(num_genes, embedding_dim)\n",
        "protein_embedding = nn.Embedding(num_proteins, embedding_dim)\n",
        "value_encoder = nn.Linear(1, embedding_dim)\n",
        "\n",
        "labels_tensor = data.labels"
      ]
    },
    {
      "cell_type": "code",
      "execution_count": 7,
      "metadata": {
        "id": "H-dRqiwY2t8u"
      },
      "outputs": [],
      "source": [
        "train_indices, val_indices = train_test_split(list(range(num_samples)), test_size=0.3, random_state=42)\n",
        "train_gene_data = gene_array[train_indices]\n",
        "train_protein_data = protein_array[train_indices]\n",
        "train_labels = labels_tensor[train_indices]\n",
        "\n",
        "val_gene_data = gene_array[val_indices]\n",
        "val_protein_data = protein_array[val_indices]\n",
        "val_labels = labels_tensor[val_indices]"
      ]
    },
    {
      "cell_type": "code",
      "execution_count": 9,
      "metadata": {
        "id": "s2fqX0Fu2t8u"
      },
      "outputs": [],
      "source": [
        "train_dataset = t.omics_dataset(train_gene_data, train_protein_data, train_labels, gene_embedding, protein_embedding, value_encoder)\n",
        "val_dataset = t.omics_dataset(val_gene_data, val_protein_data, val_labels, gene_embedding, protein_embedding, value_encoder)\n",
        "\n",
        "train_loader = DataLoader(train_dataset, batch_size=32, shuffle=True)\n",
        "val_loader = DataLoader(val_dataset, batch_size=32, shuffle=False)"
      ]
    },
    {
      "cell_type": "code",
      "execution_count": 10,
      "metadata": {
        "colab": {
          "base_uri": "https://localhost:8080/",
          "height": 492
        },
        "id": "Nhf0rBdJ2t8v",
        "outputId": "aacece6d-fd0b-433c-c863-7a38618d4fa1"
      },
      "outputs": [
        {
          "output_type": "stream",
          "name": "stderr",
          "text": [
            "/usr/local/lib/python3.10/dist-packages/torch/nn/modules/transformer.py:379: UserWarning: enable_nested_tensor is True, but self.use_nested_tensor is False because encoder_layer.self_attn.batch_first was not True(use batch_first for better inference performance)\n",
            "  warnings.warn(\n",
            "Training Progress:   0%|          | 0/5000 [00:00<?, ?epoch/s]"
          ]
        },
        {
          "output_type": "stream",
          "name": "stdout",
          "text": [
            "\n",
            "Training\n"
          ]
        },
        {
          "output_type": "stream",
          "name": "stderr",
          "text": [
            "\rTraining Progress:   0%|          | 0/5000 [03:10<?, ?epoch/s]\n"
          ]
        },
        {
          "output_type": "error",
          "ename": "OutOfMemoryError",
          "evalue": "CUDA out of memory. Tried to allocate 1.54 GiB. GPU 0 has a total capacity of 14.75 GiB of which 39.06 MiB is free. Process 68469 has 14.71 GiB memory in use. Of the allocated memory 13.51 GiB is allocated by PyTorch, and 1.08 GiB is reserved by PyTorch but unallocated. If reserved but unallocated memory is large try setting PYTORCH_CUDA_ALLOC_CONF=expandable_segments:True to avoid fragmentation.  See documentation for Memory Management  (https://pytorch.org/docs/stable/notes/cuda.html#environment-variables)",
          "traceback": [
            "\u001b[0;31m---------------------------------------------------------------------------\u001b[0m",
            "\u001b[0;31mOutOfMemoryError\u001b[0m                          Traceback (most recent call last)",
            "\u001b[0;32m<ipython-input-10-51477b12f1ab>\u001b[0m in \u001b[0;36m<cell line: 6>\u001b[0;34m()\u001b[0m\n\u001b[1;32m      4\u001b[0m \u001b[0mnum_epochs\u001b[0m \u001b[0;34m=\u001b[0m \u001b[0;36m5000\u001b[0m\u001b[0;34m\u001b[0m\u001b[0;34m\u001b[0m\u001b[0m\n\u001b[1;32m      5\u001b[0m \u001b[0;34m\u001b[0m\u001b[0m\n\u001b[0;32m----> 6\u001b[0;31m \u001b[0mtrain_loss\u001b[0m\u001b[0;34m,\u001b[0m \u001b[0mval_loss\u001b[0m \u001b[0;34m=\u001b[0m \u001b[0mtrain_predict\u001b[0m\u001b[0;34m.\u001b[0m\u001b[0mtrain_model\u001b[0m\u001b[0;34m(\u001b[0m\u001b[0mmodel\u001b[0m\u001b[0;34m,\u001b[0m \u001b[0mtrain_loader\u001b[0m\u001b[0;34m,\u001b[0m \u001b[0mval_loader\u001b[0m\u001b[0;34m,\u001b[0m \u001b[0mloss\u001b[0m\u001b[0;34m,\u001b[0m \u001b[0moptimizer\u001b[0m\u001b[0;34m,\u001b[0m \u001b[0mnum_epochs\u001b[0m\u001b[0;34m)\u001b[0m\u001b[0;34m\u001b[0m\u001b[0;34m\u001b[0m\u001b[0m\n\u001b[0m",
            "\u001b[0;32m/content/drive/MyDrive/deep_learning/train_predict.py\u001b[0m in \u001b[0;36mtrain_model\u001b[0;34m(model, train_loader, val_loader, loss, optimizer, num_epochs)\u001b[0m\n\u001b[1;32m     30\u001b[0m             \u001b[0mlabels\u001b[0m \u001b[0;34m=\u001b[0m \u001b[0mlabels\u001b[0m\u001b[0;34m.\u001b[0m\u001b[0mto\u001b[0m\u001b[0;34m(\u001b[0m\u001b[0mdevice\u001b[0m\u001b[0;34m)\u001b[0m\u001b[0;34m\u001b[0m\u001b[0;34m\u001b[0m\u001b[0m\n\u001b[1;32m     31\u001b[0m \u001b[0;34m\u001b[0m\u001b[0m\n\u001b[0;32m---> 32\u001b[0;31m             \u001b[0moutputs\u001b[0m \u001b[0;34m=\u001b[0m \u001b[0mmodel\u001b[0m\u001b[0;34m(\u001b[0m\u001b[0mgene_tokens\u001b[0m\u001b[0;34m,\u001b[0m \u001b[0mprotein_tokens\u001b[0m\u001b[0;34m)\u001b[0m\u001b[0;34m\u001b[0m\u001b[0;34m\u001b[0m\u001b[0m\n\u001b[0m\u001b[1;32m     33\u001b[0m             \u001b[0mloss_value\u001b[0m \u001b[0;34m=\u001b[0m \u001b[0mloss\u001b[0m\u001b[0;34m(\u001b[0m\u001b[0moutputs\u001b[0m\u001b[0;34m,\u001b[0m \u001b[0mlabels\u001b[0m\u001b[0;34m)\u001b[0m\u001b[0;34m\u001b[0m\u001b[0;34m\u001b[0m\u001b[0m\n\u001b[1;32m     34\u001b[0m \u001b[0;34m\u001b[0m\u001b[0m\n",
            "\u001b[0;32m/usr/local/lib/python3.10/dist-packages/torch/nn/modules/module.py\u001b[0m in \u001b[0;36m_wrapped_call_impl\u001b[0;34m(self, *args, **kwargs)\u001b[0m\n\u001b[1;32m   1734\u001b[0m             \u001b[0;32mreturn\u001b[0m \u001b[0mself\u001b[0m\u001b[0;34m.\u001b[0m\u001b[0m_compiled_call_impl\u001b[0m\u001b[0;34m(\u001b[0m\u001b[0;34m*\u001b[0m\u001b[0margs\u001b[0m\u001b[0;34m,\u001b[0m \u001b[0;34m**\u001b[0m\u001b[0mkwargs\u001b[0m\u001b[0;34m)\u001b[0m  \u001b[0;31m# type: ignore[misc]\u001b[0m\u001b[0;34m\u001b[0m\u001b[0;34m\u001b[0m\u001b[0m\n\u001b[1;32m   1735\u001b[0m         \u001b[0;32melse\u001b[0m\u001b[0;34m:\u001b[0m\u001b[0;34m\u001b[0m\u001b[0;34m\u001b[0m\u001b[0m\n\u001b[0;32m-> 1736\u001b[0;31m             \u001b[0;32mreturn\u001b[0m \u001b[0mself\u001b[0m\u001b[0;34m.\u001b[0m\u001b[0m_call_impl\u001b[0m\u001b[0;34m(\u001b[0m\u001b[0;34m*\u001b[0m\u001b[0margs\u001b[0m\u001b[0;34m,\u001b[0m \u001b[0;34m**\u001b[0m\u001b[0mkwargs\u001b[0m\u001b[0;34m)\u001b[0m\u001b[0;34m\u001b[0m\u001b[0;34m\u001b[0m\u001b[0m\n\u001b[0m\u001b[1;32m   1737\u001b[0m \u001b[0;34m\u001b[0m\u001b[0m\n\u001b[1;32m   1738\u001b[0m     \u001b[0;31m# torchrec tests the code consistency with the following code\u001b[0m\u001b[0;34m\u001b[0m\u001b[0;34m\u001b[0m\u001b[0m\n",
            "\u001b[0;32m/usr/local/lib/python3.10/dist-packages/torch/nn/modules/module.py\u001b[0m in \u001b[0;36m_call_impl\u001b[0;34m(self, *args, **kwargs)\u001b[0m\n\u001b[1;32m   1745\u001b[0m                 \u001b[0;32mor\u001b[0m \u001b[0m_global_backward_pre_hooks\u001b[0m \u001b[0;32mor\u001b[0m \u001b[0m_global_backward_hooks\u001b[0m\u001b[0;34m\u001b[0m\u001b[0;34m\u001b[0m\u001b[0m\n\u001b[1;32m   1746\u001b[0m                 or _global_forward_hooks or _global_forward_pre_hooks):\n\u001b[0;32m-> 1747\u001b[0;31m             \u001b[0;32mreturn\u001b[0m \u001b[0mforward_call\u001b[0m\u001b[0;34m(\u001b[0m\u001b[0;34m*\u001b[0m\u001b[0margs\u001b[0m\u001b[0;34m,\u001b[0m \u001b[0;34m**\u001b[0m\u001b[0mkwargs\u001b[0m\u001b[0;34m)\u001b[0m\u001b[0;34m\u001b[0m\u001b[0;34m\u001b[0m\u001b[0m\n\u001b[0m\u001b[1;32m   1748\u001b[0m \u001b[0;34m\u001b[0m\u001b[0m\n\u001b[1;32m   1749\u001b[0m         \u001b[0mresult\u001b[0m \u001b[0;34m=\u001b[0m \u001b[0;32mNone\u001b[0m\u001b[0;34m\u001b[0m\u001b[0;34m\u001b[0m\u001b[0m\n",
            "\u001b[0;32m/content/drive/MyDrive/deep_learning/models.py\u001b[0m in \u001b[0;36mforward\u001b[0;34m(self, gene_tokens, protein_tokens)\u001b[0m\n\u001b[1;32m     73\u001b[0m         \u001b[0mprotein_tokens\u001b[0m \u001b[0;34m=\u001b[0m \u001b[0mprotein_tokens\u001b[0m\u001b[0;34m.\u001b[0m\u001b[0mpermute\u001b[0m\u001b[0;34m(\u001b[0m\u001b[0;36m1\u001b[0m\u001b[0;34m,\u001b[0m\u001b[0;36m0\u001b[0m\u001b[0;34m,\u001b[0m\u001b[0;36m2\u001b[0m\u001b[0;34m)\u001b[0m\u001b[0;34m\u001b[0m\u001b[0;34m\u001b[0m\u001b[0m\n\u001b[1;32m     74\u001b[0m \u001b[0;34m\u001b[0m\u001b[0m\n\u001b[0;32m---> 75\u001b[0;31m         \u001b[0mgene_encoded\u001b[0m \u001b[0;34m=\u001b[0m \u001b[0mself\u001b[0m\u001b[0;34m.\u001b[0m\u001b[0mgene_encoder\u001b[0m\u001b[0;34m(\u001b[0m\u001b[0mgene_tokens\u001b[0m\u001b[0;34m)\u001b[0m\u001b[0;34m\u001b[0m\u001b[0;34m\u001b[0m\u001b[0m\n\u001b[0m\u001b[1;32m     76\u001b[0m         \u001b[0mprotein_encoded\u001b[0m \u001b[0;34m=\u001b[0m \u001b[0mself\u001b[0m\u001b[0;34m.\u001b[0m\u001b[0mprotein_encoder\u001b[0m\u001b[0;34m(\u001b[0m\u001b[0mprotein_tokens\u001b[0m\u001b[0;34m)\u001b[0m\u001b[0;34m\u001b[0m\u001b[0;34m\u001b[0m\u001b[0m\n\u001b[1;32m     77\u001b[0m \u001b[0;34m\u001b[0m\u001b[0m\n",
            "\u001b[0;32m/usr/local/lib/python3.10/dist-packages/torch/nn/modules/module.py\u001b[0m in \u001b[0;36m_wrapped_call_impl\u001b[0;34m(self, *args, **kwargs)\u001b[0m\n\u001b[1;32m   1734\u001b[0m             \u001b[0;32mreturn\u001b[0m \u001b[0mself\u001b[0m\u001b[0;34m.\u001b[0m\u001b[0m_compiled_call_impl\u001b[0m\u001b[0;34m(\u001b[0m\u001b[0;34m*\u001b[0m\u001b[0margs\u001b[0m\u001b[0;34m,\u001b[0m \u001b[0;34m**\u001b[0m\u001b[0mkwargs\u001b[0m\u001b[0;34m)\u001b[0m  \u001b[0;31m# type: ignore[misc]\u001b[0m\u001b[0;34m\u001b[0m\u001b[0;34m\u001b[0m\u001b[0m\n\u001b[1;32m   1735\u001b[0m         \u001b[0;32melse\u001b[0m\u001b[0;34m:\u001b[0m\u001b[0;34m\u001b[0m\u001b[0;34m\u001b[0m\u001b[0m\n\u001b[0;32m-> 1736\u001b[0;31m             \u001b[0;32mreturn\u001b[0m \u001b[0mself\u001b[0m\u001b[0;34m.\u001b[0m\u001b[0m_call_impl\u001b[0m\u001b[0;34m(\u001b[0m\u001b[0;34m*\u001b[0m\u001b[0margs\u001b[0m\u001b[0;34m,\u001b[0m \u001b[0;34m**\u001b[0m\u001b[0mkwargs\u001b[0m\u001b[0;34m)\u001b[0m\u001b[0;34m\u001b[0m\u001b[0;34m\u001b[0m\u001b[0m\n\u001b[0m\u001b[1;32m   1737\u001b[0m \u001b[0;34m\u001b[0m\u001b[0m\n\u001b[1;32m   1738\u001b[0m     \u001b[0;31m# torchrec tests the code consistency with the following code\u001b[0m\u001b[0;34m\u001b[0m\u001b[0;34m\u001b[0m\u001b[0m\n",
            "\u001b[0;32m/usr/local/lib/python3.10/dist-packages/torch/nn/modules/module.py\u001b[0m in \u001b[0;36m_call_impl\u001b[0;34m(self, *args, **kwargs)\u001b[0m\n\u001b[1;32m   1745\u001b[0m                 \u001b[0;32mor\u001b[0m \u001b[0m_global_backward_pre_hooks\u001b[0m \u001b[0;32mor\u001b[0m \u001b[0m_global_backward_hooks\u001b[0m\u001b[0;34m\u001b[0m\u001b[0;34m\u001b[0m\u001b[0m\n\u001b[1;32m   1746\u001b[0m                 or _global_forward_hooks or _global_forward_pre_hooks):\n\u001b[0;32m-> 1747\u001b[0;31m             \u001b[0;32mreturn\u001b[0m \u001b[0mforward_call\u001b[0m\u001b[0;34m(\u001b[0m\u001b[0;34m*\u001b[0m\u001b[0margs\u001b[0m\u001b[0;34m,\u001b[0m \u001b[0;34m**\u001b[0m\u001b[0mkwargs\u001b[0m\u001b[0;34m)\u001b[0m\u001b[0;34m\u001b[0m\u001b[0;34m\u001b[0m\u001b[0m\n\u001b[0m\u001b[1;32m   1748\u001b[0m \u001b[0;34m\u001b[0m\u001b[0m\n\u001b[1;32m   1749\u001b[0m         \u001b[0mresult\u001b[0m \u001b[0;34m=\u001b[0m \u001b[0;32mNone\u001b[0m\u001b[0;34m\u001b[0m\u001b[0;34m\u001b[0m\u001b[0m\n",
            "\u001b[0;32m/usr/local/lib/python3.10/dist-packages/torch/nn/modules/transformer.py\u001b[0m in \u001b[0;36mforward\u001b[0;34m(self, src, mask, src_key_padding_mask, is_causal)\u001b[0m\n\u001b[1;32m    509\u001b[0m \u001b[0;34m\u001b[0m\u001b[0m\n\u001b[1;32m    510\u001b[0m         \u001b[0;32mfor\u001b[0m \u001b[0mmod\u001b[0m \u001b[0;32min\u001b[0m \u001b[0mself\u001b[0m\u001b[0;34m.\u001b[0m\u001b[0mlayers\u001b[0m\u001b[0;34m:\u001b[0m\u001b[0;34m\u001b[0m\u001b[0;34m\u001b[0m\u001b[0m\n\u001b[0;32m--> 511\u001b[0;31m             output = mod(\n\u001b[0m\u001b[1;32m    512\u001b[0m                 \u001b[0moutput\u001b[0m\u001b[0;34m,\u001b[0m\u001b[0;34m\u001b[0m\u001b[0;34m\u001b[0m\u001b[0m\n\u001b[1;32m    513\u001b[0m                 \u001b[0msrc_mask\u001b[0m\u001b[0;34m=\u001b[0m\u001b[0mmask\u001b[0m\u001b[0;34m,\u001b[0m\u001b[0;34m\u001b[0m\u001b[0;34m\u001b[0m\u001b[0m\n",
            "\u001b[0;32m/usr/local/lib/python3.10/dist-packages/torch/nn/modules/module.py\u001b[0m in \u001b[0;36m_wrapped_call_impl\u001b[0;34m(self, *args, **kwargs)\u001b[0m\n\u001b[1;32m   1734\u001b[0m             \u001b[0;32mreturn\u001b[0m \u001b[0mself\u001b[0m\u001b[0;34m.\u001b[0m\u001b[0m_compiled_call_impl\u001b[0m\u001b[0;34m(\u001b[0m\u001b[0;34m*\u001b[0m\u001b[0margs\u001b[0m\u001b[0;34m,\u001b[0m \u001b[0;34m**\u001b[0m\u001b[0mkwargs\u001b[0m\u001b[0;34m)\u001b[0m  \u001b[0;31m# type: ignore[misc]\u001b[0m\u001b[0;34m\u001b[0m\u001b[0;34m\u001b[0m\u001b[0m\n\u001b[1;32m   1735\u001b[0m         \u001b[0;32melse\u001b[0m\u001b[0;34m:\u001b[0m\u001b[0;34m\u001b[0m\u001b[0;34m\u001b[0m\u001b[0m\n\u001b[0;32m-> 1736\u001b[0;31m             \u001b[0;32mreturn\u001b[0m \u001b[0mself\u001b[0m\u001b[0;34m.\u001b[0m\u001b[0m_call_impl\u001b[0m\u001b[0;34m(\u001b[0m\u001b[0;34m*\u001b[0m\u001b[0margs\u001b[0m\u001b[0;34m,\u001b[0m \u001b[0;34m**\u001b[0m\u001b[0mkwargs\u001b[0m\u001b[0;34m)\u001b[0m\u001b[0;34m\u001b[0m\u001b[0;34m\u001b[0m\u001b[0m\n\u001b[0m\u001b[1;32m   1737\u001b[0m \u001b[0;34m\u001b[0m\u001b[0m\n\u001b[1;32m   1738\u001b[0m     \u001b[0;31m# torchrec tests the code consistency with the following code\u001b[0m\u001b[0;34m\u001b[0m\u001b[0;34m\u001b[0m\u001b[0m\n",
            "\u001b[0;32m/usr/local/lib/python3.10/dist-packages/torch/nn/modules/module.py\u001b[0m in \u001b[0;36m_call_impl\u001b[0;34m(self, *args, **kwargs)\u001b[0m\n\u001b[1;32m   1745\u001b[0m                 \u001b[0;32mor\u001b[0m \u001b[0m_global_backward_pre_hooks\u001b[0m \u001b[0;32mor\u001b[0m \u001b[0m_global_backward_hooks\u001b[0m\u001b[0;34m\u001b[0m\u001b[0;34m\u001b[0m\u001b[0m\n\u001b[1;32m   1746\u001b[0m                 or _global_forward_hooks or _global_forward_pre_hooks):\n\u001b[0;32m-> 1747\u001b[0;31m             \u001b[0;32mreturn\u001b[0m \u001b[0mforward_call\u001b[0m\u001b[0;34m(\u001b[0m\u001b[0;34m*\u001b[0m\u001b[0margs\u001b[0m\u001b[0;34m,\u001b[0m \u001b[0;34m**\u001b[0m\u001b[0mkwargs\u001b[0m\u001b[0;34m)\u001b[0m\u001b[0;34m\u001b[0m\u001b[0;34m\u001b[0m\u001b[0m\n\u001b[0m\u001b[1;32m   1748\u001b[0m \u001b[0;34m\u001b[0m\u001b[0m\n\u001b[1;32m   1749\u001b[0m         \u001b[0mresult\u001b[0m \u001b[0;34m=\u001b[0m \u001b[0;32mNone\u001b[0m\u001b[0;34m\u001b[0m\u001b[0;34m\u001b[0m\u001b[0m\n",
            "\u001b[0;32m/usr/local/lib/python3.10/dist-packages/torch/nn/modules/transformer.py\u001b[0m in \u001b[0;36mforward\u001b[0;34m(self, src, src_mask, src_key_padding_mask, is_causal)\u001b[0m\n\u001b[1;32m    902\u001b[0m             x = self.norm1(\n\u001b[1;32m    903\u001b[0m                 \u001b[0mx\u001b[0m\u001b[0;34m\u001b[0m\u001b[0;34m\u001b[0m\u001b[0m\n\u001b[0;32m--> 904\u001b[0;31m                 \u001b[0;34m+\u001b[0m \u001b[0mself\u001b[0m\u001b[0;34m.\u001b[0m\u001b[0m_sa_block\u001b[0m\u001b[0;34m(\u001b[0m\u001b[0mx\u001b[0m\u001b[0;34m,\u001b[0m \u001b[0msrc_mask\u001b[0m\u001b[0;34m,\u001b[0m \u001b[0msrc_key_padding_mask\u001b[0m\u001b[0;34m,\u001b[0m \u001b[0mis_causal\u001b[0m\u001b[0;34m=\u001b[0m\u001b[0mis_causal\u001b[0m\u001b[0;34m)\u001b[0m\u001b[0;34m\u001b[0m\u001b[0;34m\u001b[0m\u001b[0m\n\u001b[0m\u001b[1;32m    905\u001b[0m             )\n\u001b[1;32m    906\u001b[0m             \u001b[0mx\u001b[0m \u001b[0;34m=\u001b[0m \u001b[0mself\u001b[0m\u001b[0;34m.\u001b[0m\u001b[0mnorm2\u001b[0m\u001b[0;34m(\u001b[0m\u001b[0mx\u001b[0m \u001b[0;34m+\u001b[0m \u001b[0mself\u001b[0m\u001b[0;34m.\u001b[0m\u001b[0m_ff_block\u001b[0m\u001b[0;34m(\u001b[0m\u001b[0mx\u001b[0m\u001b[0;34m)\u001b[0m\u001b[0;34m)\u001b[0m\u001b[0;34m\u001b[0m\u001b[0;34m\u001b[0m\u001b[0m\n",
            "\u001b[0;32m/usr/local/lib/python3.10/dist-packages/torch/nn/modules/transformer.py\u001b[0m in \u001b[0;36m_sa_block\u001b[0;34m(self, x, attn_mask, key_padding_mask, is_causal)\u001b[0m\n\u001b[1;32m    925\u001b[0m             \u001b[0mis_causal\u001b[0m\u001b[0;34m=\u001b[0m\u001b[0mis_causal\u001b[0m\u001b[0;34m,\u001b[0m\u001b[0;34m\u001b[0m\u001b[0;34m\u001b[0m\u001b[0m\n\u001b[1;32m    926\u001b[0m         )[0]\n\u001b[0;32m--> 927\u001b[0;31m         \u001b[0;32mreturn\u001b[0m \u001b[0mself\u001b[0m\u001b[0;34m.\u001b[0m\u001b[0mdropout1\u001b[0m\u001b[0;34m(\u001b[0m\u001b[0mx\u001b[0m\u001b[0;34m)\u001b[0m\u001b[0;34m\u001b[0m\u001b[0;34m\u001b[0m\u001b[0m\n\u001b[0m\u001b[1;32m    928\u001b[0m \u001b[0;34m\u001b[0m\u001b[0m\n\u001b[1;32m    929\u001b[0m     \u001b[0;31m# feed forward block\u001b[0m\u001b[0;34m\u001b[0m\u001b[0;34m\u001b[0m\u001b[0m\n",
            "\u001b[0;32m/usr/local/lib/python3.10/dist-packages/torch/nn/modules/module.py\u001b[0m in \u001b[0;36m_wrapped_call_impl\u001b[0;34m(self, *args, **kwargs)\u001b[0m\n\u001b[1;32m   1734\u001b[0m             \u001b[0;32mreturn\u001b[0m \u001b[0mself\u001b[0m\u001b[0;34m.\u001b[0m\u001b[0m_compiled_call_impl\u001b[0m\u001b[0;34m(\u001b[0m\u001b[0;34m*\u001b[0m\u001b[0margs\u001b[0m\u001b[0;34m,\u001b[0m \u001b[0;34m**\u001b[0m\u001b[0mkwargs\u001b[0m\u001b[0;34m)\u001b[0m  \u001b[0;31m# type: ignore[misc]\u001b[0m\u001b[0;34m\u001b[0m\u001b[0;34m\u001b[0m\u001b[0m\n\u001b[1;32m   1735\u001b[0m         \u001b[0;32melse\u001b[0m\u001b[0;34m:\u001b[0m\u001b[0;34m\u001b[0m\u001b[0;34m\u001b[0m\u001b[0m\n\u001b[0;32m-> 1736\u001b[0;31m             \u001b[0;32mreturn\u001b[0m \u001b[0mself\u001b[0m\u001b[0;34m.\u001b[0m\u001b[0m_call_impl\u001b[0m\u001b[0;34m(\u001b[0m\u001b[0;34m*\u001b[0m\u001b[0margs\u001b[0m\u001b[0;34m,\u001b[0m \u001b[0;34m**\u001b[0m\u001b[0mkwargs\u001b[0m\u001b[0;34m)\u001b[0m\u001b[0;34m\u001b[0m\u001b[0;34m\u001b[0m\u001b[0m\n\u001b[0m\u001b[1;32m   1737\u001b[0m \u001b[0;34m\u001b[0m\u001b[0m\n\u001b[1;32m   1738\u001b[0m     \u001b[0;31m# torchrec tests the code consistency with the following code\u001b[0m\u001b[0;34m\u001b[0m\u001b[0;34m\u001b[0m\u001b[0m\n",
            "\u001b[0;32m/usr/local/lib/python3.10/dist-packages/torch/nn/modules/module.py\u001b[0m in \u001b[0;36m_call_impl\u001b[0;34m(self, *args, **kwargs)\u001b[0m\n\u001b[1;32m   1745\u001b[0m                 \u001b[0;32mor\u001b[0m \u001b[0m_global_backward_pre_hooks\u001b[0m \u001b[0;32mor\u001b[0m \u001b[0m_global_backward_hooks\u001b[0m\u001b[0;34m\u001b[0m\u001b[0;34m\u001b[0m\u001b[0m\n\u001b[1;32m   1746\u001b[0m                 or _global_forward_hooks or _global_forward_pre_hooks):\n\u001b[0;32m-> 1747\u001b[0;31m             \u001b[0;32mreturn\u001b[0m \u001b[0mforward_call\u001b[0m\u001b[0;34m(\u001b[0m\u001b[0;34m*\u001b[0m\u001b[0margs\u001b[0m\u001b[0;34m,\u001b[0m \u001b[0;34m**\u001b[0m\u001b[0mkwargs\u001b[0m\u001b[0;34m)\u001b[0m\u001b[0;34m\u001b[0m\u001b[0;34m\u001b[0m\u001b[0m\n\u001b[0m\u001b[1;32m   1748\u001b[0m \u001b[0;34m\u001b[0m\u001b[0m\n\u001b[1;32m   1749\u001b[0m         \u001b[0mresult\u001b[0m \u001b[0;34m=\u001b[0m \u001b[0;32mNone\u001b[0m\u001b[0;34m\u001b[0m\u001b[0;34m\u001b[0m\u001b[0m\n",
            "\u001b[0;32m/usr/local/lib/python3.10/dist-packages/torch/nn/modules/dropout.py\u001b[0m in \u001b[0;36mforward\u001b[0;34m(self, input)\u001b[0m\n\u001b[1;32m     68\u001b[0m \u001b[0;34m\u001b[0m\u001b[0m\n\u001b[1;32m     69\u001b[0m     \u001b[0;32mdef\u001b[0m \u001b[0mforward\u001b[0m\u001b[0;34m(\u001b[0m\u001b[0mself\u001b[0m\u001b[0;34m,\u001b[0m \u001b[0minput\u001b[0m\u001b[0;34m:\u001b[0m \u001b[0mTensor\u001b[0m\u001b[0;34m)\u001b[0m \u001b[0;34m->\u001b[0m \u001b[0mTensor\u001b[0m\u001b[0;34m:\u001b[0m\u001b[0;34m\u001b[0m\u001b[0;34m\u001b[0m\u001b[0m\n\u001b[0;32m---> 70\u001b[0;31m         \u001b[0;32mreturn\u001b[0m \u001b[0mF\u001b[0m\u001b[0;34m.\u001b[0m\u001b[0mdropout\u001b[0m\u001b[0;34m(\u001b[0m\u001b[0minput\u001b[0m\u001b[0;34m,\u001b[0m \u001b[0mself\u001b[0m\u001b[0;34m.\u001b[0m\u001b[0mp\u001b[0m\u001b[0;34m,\u001b[0m \u001b[0mself\u001b[0m\u001b[0;34m.\u001b[0m\u001b[0mtraining\u001b[0m\u001b[0;34m,\u001b[0m \u001b[0mself\u001b[0m\u001b[0;34m.\u001b[0m\u001b[0minplace\u001b[0m\u001b[0;34m)\u001b[0m\u001b[0;34m\u001b[0m\u001b[0;34m\u001b[0m\u001b[0m\n\u001b[0m\u001b[1;32m     71\u001b[0m \u001b[0;34m\u001b[0m\u001b[0m\n\u001b[1;32m     72\u001b[0m \u001b[0;34m\u001b[0m\u001b[0m\n",
            "\u001b[0;32m/usr/local/lib/python3.10/dist-packages/torch/nn/functional.py\u001b[0m in \u001b[0;36mdropout\u001b[0;34m(input, p, training, inplace)\u001b[0m\n\u001b[1;32m   1423\u001b[0m         \u001b[0;32mraise\u001b[0m \u001b[0mValueError\u001b[0m\u001b[0;34m(\u001b[0m\u001b[0;34mf\"dropout probability has to be between 0 and 1, but got {p}\"\u001b[0m\u001b[0;34m)\u001b[0m\u001b[0;34m\u001b[0m\u001b[0;34m\u001b[0m\u001b[0m\n\u001b[1;32m   1424\u001b[0m     return (\n\u001b[0;32m-> 1425\u001b[0;31m         \u001b[0m_VF\u001b[0m\u001b[0;34m.\u001b[0m\u001b[0mdropout_\u001b[0m\u001b[0;34m(\u001b[0m\u001b[0minput\u001b[0m\u001b[0;34m,\u001b[0m \u001b[0mp\u001b[0m\u001b[0;34m,\u001b[0m \u001b[0mtraining\u001b[0m\u001b[0;34m)\u001b[0m \u001b[0;32mif\u001b[0m \u001b[0minplace\u001b[0m \u001b[0;32melse\u001b[0m \u001b[0m_VF\u001b[0m\u001b[0;34m.\u001b[0m\u001b[0mdropout\u001b[0m\u001b[0;34m(\u001b[0m\u001b[0minput\u001b[0m\u001b[0;34m,\u001b[0m \u001b[0mp\u001b[0m\u001b[0;34m,\u001b[0m \u001b[0mtraining\u001b[0m\u001b[0;34m)\u001b[0m\u001b[0;34m\u001b[0m\u001b[0;34m\u001b[0m\u001b[0m\n\u001b[0m\u001b[1;32m   1426\u001b[0m     )\n\u001b[1;32m   1427\u001b[0m \u001b[0;34m\u001b[0m\u001b[0m\n",
            "\u001b[0;31mOutOfMemoryError\u001b[0m: CUDA out of memory. Tried to allocate 1.54 GiB. GPU 0 has a total capacity of 14.75 GiB of which 39.06 MiB is free. Process 68469 has 14.71 GiB memory in use. Of the allocated memory 13.51 GiB is allocated by PyTorch, and 1.08 GiB is reserved by PyTorch but unallocated. If reserved but unallocated memory is large try setting PYTORCH_CUDA_ALLOC_CONF=expandable_segments:True to avoid fragmentation.  See documentation for Memory Management  (https://pytorch.org/docs/stable/notes/cuda.html#environment-variables)"
          ]
        }
      ],
      "source": [
        "model = m.omics_transformer(128, len(data.cancer_labels)).to(device)\n",
        "loss = nn.CrossEntropyLoss()\n",
        "optimizer = torch.optim.Adam(model.parameters(), lr=0.001)\n",
        "num_epochs = 5000\n",
        "\n",
        "train_loss, val_loss = train_predict.train_model(model, train_loader, val_loader, loss, optimizer, num_epochs)"
      ]
    },
    {
      "cell_type": "code",
      "execution_count": null,
      "metadata": {
        "id": "jTPnTsI62t8v"
      },
      "outputs": [],
      "source": [
        "pred_labels, true_labels, accuracy = train_predict.get_predictions(model, val_loader, device, data.label_to_id, accuracy = True)\n",
        "print(f'Model Accuracy: {accuracy}')"
      ]
    },
    {
      "cell_type": "markdown",
      "metadata": {
        "id": "YfWbVdj22t8v"
      },
      "source": [
        "# Previous Attempts"
      ]
    },
    {
      "cell_type": "code",
      "execution_count": 6,
      "metadata": {
        "colab": {
          "base_uri": "https://localhost:8080/"
        },
        "id": "RhanL2P42t8w",
        "outputId": "5c642c4b-d44e-4b4c-e611-b81d2c71bc3f"
      },
      "outputs": [
        {
          "output_type": "stream",
          "name": "stdout",
          "text": [
            "Combining transcriptomics and proteomics data...\n",
            "Data has been combined into a single DataFrame.\n"
          ]
        }
      ],
      "source": [
        "data.combine_data()\n",
        "data.clean_data()\n",
        "\n",
        "X = data.all_data_cleaned.drop('Cancer', axis=1)\n",
        "y = data.all_data_cleaned['Cancer']\n",
        "\n",
        "\n",
        "selected_columns = random.sample(list(X.columns), 4000)\n",
        "X_sample = X[selected_columns]\n",
        "\n",
        "X_train, X_val, y_train, y_val = train_test_split(X_sample, y, test_size=0.2, random_state=42)"
      ]
    },
    {
      "cell_type": "code",
      "execution_count": 7,
      "metadata": {
        "colab": {
          "base_uri": "https://localhost:8080/"
        },
        "id": "yrQQCe4W2t8w",
        "outputId": "28458dbf-e3f0-470f-f188-5a40328822d6"
      },
      "outputs": [
        {
          "output_type": "stream",
          "name": "stdout",
          "text": [
            "X_train shape: (872, 4000)\n",
            "X_test shape: (219, 4000)\n",
            "y_train shape: (872,)\n",
            "y_test shape: (219,)\n",
            "y_train distribution:\n",
            "Cancer\n",
            "Lung             166\n",
            "Renal Cell       161\n",
            "Head and Neck    146\n",
            "Endometrial      120\n",
            "Ovarian          102\n",
            "Breast            92\n",
            "Brain             85\n",
            "Name: count, dtype: int64\n",
            "y_test distribution:\n",
            "Cancer\n",
            "Lung             45\n",
            "Head and Neck    43\n",
            "Renal Cell       33\n",
            "Breast           30\n",
            "Endometrial      24\n",
            "Brain            24\n",
            "Ovarian          20\n",
            "Name: count, dtype: int64\n"
          ]
        }
      ],
      "source": [
        "print(\"X_train shape:\", X_train.shape)\n",
        "print(\"X_test shape:\", X_val.shape)\n",
        "print(\"y_train shape:\", y_train.shape)\n",
        "print(\"y_test shape:\", y_val.shape)\n",
        "\n",
        "# Check class balance in the target variable\n",
        "print(\"y_train distribution:\")\n",
        "print(y_train.value_counts())\n",
        "\n",
        "print(\"y_test distribution:\")\n",
        "print(y_val.value_counts())"
      ]
    },
    {
      "cell_type": "code",
      "execution_count": 8,
      "metadata": {
        "id": "agpK8IjU2t8w"
      },
      "outputs": [],
      "source": [
        "scaler = StandardScaler()\n",
        "X_train_scaled = scaler.fit_transform(X_train)\n",
        "X_val_scaled = scaler.transform(X_val)\n",
        "\n",
        "label_encoder = LabelEncoder()\n",
        "y_train_encoded = label_encoder.fit_transform(y_train.values)\n",
        "y_val_encoded = label_encoder.transform(y_val.values)\n",
        "\n",
        "# Convert data to PyTorch tensors\n",
        "X_train_tensor = torch.tensor(X_train_scaled, dtype=torch.float32).to(device)\n",
        "y_train_tensor = torch.tensor(y_train_encoded, dtype=torch.long).to(device)\n",
        "X_val_tensor = torch.tensor(X_val_scaled, dtype=torch.float32).to(device)\n",
        "y_val_tensor = torch.tensor(y_val_encoded, dtype=torch.long).to(device)"
      ]
    },
    {
      "cell_type": "code",
      "execution_count": 9,
      "metadata": {
        "colab": {
          "base_uri": "https://localhost:8080/"
        },
        "id": "fRTmbLrX2t8w",
        "outputId": "f02f5490-1873-47be-99a8-1541a9146d89"
      },
      "outputs": [
        {
          "output_type": "stream",
          "name": "stderr",
          "text": [
            "/usr/local/lib/python3.10/dist-packages/torch/nn/modules/transformer.py:379: UserWarning: enable_nested_tensor is True, but self.use_nested_tensor is False because encoder_layer.self_attn.batch_first was not True(use batch_first for better inference performance)\n",
            "  warnings.warn(\n"
          ]
        }
      ],
      "source": [
        "num_features = X_train_tensor.shape[1]\n",
        "hidden_size = 128\n",
        "num_classes = len(torch.unique(y_train_tensor))\n",
        "\n",
        "model = m.cancer_transformer(num_features, hidden_size, num_classes).to(device)"
      ]
    },
    {
      "cell_type": "code",
      "execution_count": 10,
      "metadata": {
        "id": "JLqGKWjD2t8w"
      },
      "outputs": [],
      "source": [
        "class_weights = compute_class_weight('balanced', classes=np.unique(y_train_tensor.cpu().numpy()), y=y_train_tensor.cpu().numpy())\n",
        "class_weights = torch.tensor(class_weights, dtype=torch.float32).to(device)\n",
        "\n",
        "\n",
        "loss = nn.CrossEntropyLoss(weight = class_weights)\n",
        "optimizer = torch.optim.Adam(model.parameters(), lr=0.01)\n",
        "num_epochs = 5000\n",
        "batch_size = 128\n",
        "\n",
        "train_dataset = torch.utils.data.TensorDataset(X_train_tensor, y_train_tensor)\n",
        "val_dataset = torch.utils.data.TensorDataset(X_val_tensor, y_val_tensor)\n",
        "\n",
        "train_loader = torch.utils.data.DataLoader(train_dataset, batch_size=batch_size, shuffle=True)\n",
        "val_loader = torch.utils.data.DataLoader(val_dataset, batch_size=batch_size, shuffle=False)"
      ]
    },
    {
      "cell_type": "code",
      "execution_count": 11,
      "metadata": {
        "id": "50KGyDSd2t8x"
      },
      "outputs": [],
      "source": [
        "latent_dim = 64\n",
        "auto_loss = nn.MSELoss()\n",
        "autoencoder_model = m.autoencoder(num_features, latent_dim).to(device)\n",
        "auto_optimizer = torch.optim.Adam(autoencoder_model.parameters(), lr=0.001)"
      ]
    },
    {
      "cell_type": "code",
      "execution_count": 12,
      "metadata": {
        "colab": {
          "base_uri": "https://localhost:8080/"
        },
        "id": "2kwXaaCf2t8x",
        "outputId": "d00c5c8f-acfe-4dca-fe6c-79ce1d69ebdd"
      },
      "outputs": [
        {
          "output_type": "stream",
          "name": "stderr",
          "text": [
            "Training Progress: 100%|██████████| 5000/5000 [03:00<00:00, 27.70epoch/s]\n"
          ]
        }
      ],
      "source": [
        "train_auto, val_auto = train_predict.train_autoencoder(autoencoder_model, train_loader, val_loader, auto_loss, auto_optimizer, num_epochs)"
      ]
    },
    {
      "cell_type": "code",
      "execution_count": 13,
      "metadata": {
        "colab": {
          "base_uri": "https://localhost:8080/",
          "height": 449
        },
        "id": "HZ146hl-2t8x",
        "outputId": "993c96c8-850f-4764-c6b6-4115b3aaf52e"
      },
      "outputs": [
        {
          "output_type": "display_data",
          "data": {
            "text/plain": [
              "<Figure size 640x480 with 1 Axes>"
            ],
            "image/png": "[encoded data removed]"
          },
          "metadata": {}
        }
      ],
      "source": [
        "plt.plot(train_auto, label='Training Loss')\n",
        "plt.plot(val_auto, label='Validation Loss')\n",
        "plt.xlabel('Epoch')\n",
        "plt.ylabel('Loss')\n",
        "plt.legend()\n",
        "plt.show()"
      ]
    },
    {
      "cell_type": "code",
      "execution_count": 14,
      "metadata": {
        "id": "QQ2biWFJ2t8x"
      },
      "outputs": [],
      "source": [
        "X_train_latent = autoencoder_model.encoder(X_train_tensor.to(device)).detach().cpu().numpy()\n",
        "X_val_latent = autoencoder_model.encoder(X_val_tensor.to(device)).detach().cpu().numpy()\n",
        "\n",
        "new_train_dataset = torch.utils.data.TensorDataset(torch.tensor(X_train_latent, dtype=torch.float32), y_train_tensor)\n",
        "new_val_dataset = torch.utils.data.TensorDataset(torch.tensor(X_val_latent, dtype=torch.float32), y_val_tensor)\n",
        "\n",
        "new_train_loader = torch.utils.data.DataLoader(new_train_dataset, batch_size=batch_size, shuffle=True)\n",
        "new_val_loader = torch.utils.data.DataLoader(new_val_dataset, batch_size=batch_size, shuffle=False)\n",
        "\n",
        "num_classes = len(torch.unique(y_train_tensor))\n",
        "model = m.cancer_mlp(latent_dim, hidden_size, num_classes).to(device)"
      ]
    },
    {
      "cell_type": "code",
      "execution_count": 15,
      "metadata": {
        "colab": {
          "base_uri": "https://localhost:8080/"
        },
        "id": "3ZwJYII62t8x",
        "outputId": "c1db2ed2-f856-492d-b541-8afcfca7e08f"
      },
      "outputs": [
        {
          "output_type": "stream",
          "name": "stderr",
          "text": [
            "Training Progress: 100%|██████████| 5000/5000 [00:26<00:00, 189.89epoch/s]\n"
          ]
        }
      ],
      "source": [
        "train_losses, val_losses = train_predict.old_train_model(model, new_train_loader, new_val_loader, loss, optimizer, num_epochs)"
      ]
    },
    {
      "cell_type": "code",
      "execution_count": 17,
      "metadata": {
        "id": "rQlVG-EV2t8x"
      },
      "outputs": [],
      "source": [
        "y_pred_classes = train_predict.old_get_predictions(model, X_val_latent, device)\n",
        "y_true = y_val_tensor.cpu().numpy()\n",
        "y_true_labels = label_encoder.inverse_transform(y_true)\n"
      ]
    },
    {
      "cell_type": "code",
      "execution_count": 18,
      "metadata": {
        "colab": {
          "base_uri": "https://localhost:8080/"
        },
        "id": "2YDy-pcP2t8x",
        "outputId": "49d7c625-c09e-4307-eb97-1d6f1bf1a0c3"
      },
      "outputs": [
        {
          "output_type": "execute_result",
          "data": {
            "text/plain": [
              "array(['Breast', 'Breast', 'Endometrial', 'Renal Cell', 'Breast',\n",
              "       'Endometrial', 'Endometrial', 'Breast', 'Breast', 'Breast',\n",
              "       'Endometrial', 'Renal Cell', 'Breast', 'Breast', 'Breast',\n",
              "       'Renal Cell', 'Renal Cell', 'Renal Cell', 'Breast', 'Endometrial',\n",
              "       'Endometrial', 'Breast', 'Renal Cell', 'Endometrial', 'Breast',\n",
              "       'Endometrial', 'Endometrial', 'Endometrial', 'Breast',\n",
              "       'Endometrial', 'Breast', 'Breast', 'Breast', 'Endometrial',\n",
              "       'Breast', 'Breast', 'Renal Cell', 'Endometrial', 'Breast',\n",
              "       'Head and Neck', 'Endometrial', 'Breast', 'Endometrial',\n",
              "       'Endometrial', 'Breast', 'Endometrial', 'Breast', 'Breast',\n",
              "       'Endometrial', 'Endometrial', 'Breast', 'Renal Cell', 'Renal Cell',\n",
              "       'Renal Cell', 'Breast', 'Breast', 'Endometrial', 'Breast',\n",
              "       'Endometrial', 'Endometrial', 'Endometrial', 'Breast', 'Breast',\n",
              "       'Breast', 'Breast', 'Endometrial', 'Breast', 'Breast', 'Breast',\n",
              "       'Breast', 'Endometrial', 'Renal Cell', 'Endometrial',\n",
              "       'Endometrial', 'Breast', 'Breast', 'Breast', 'Breast',\n",
              "       'Endometrial', 'Breast', 'Breast', 'Breast', 'Breast',\n",
              "       'Endometrial', 'Endometrial', 'Endometrial', 'Endometrial',\n",
              "       'Endometrial', 'Breast', 'Renal Cell', 'Breast', 'Renal Cell',\n",
              "       'Breast', 'Breast', 'Breast', 'Renal Cell', 'Endometrial',\n",
              "       'Endometrial', 'Breast', 'Breast', 'Endometrial', 'Endometrial',\n",
              "       'Endometrial', 'Breast', 'Endometrial', 'Breast', 'Breast',\n",
              "       'Endometrial', 'Endometrial', 'Endometrial', 'Endometrial',\n",
              "       'Renal Cell', 'Breast', 'Breast', 'Endometrial', 'Breast',\n",
              "       'Breast', 'Endometrial', 'Head and Neck', 'Breast', 'Breast',\n",
              "       'Endometrial', 'Breast', 'Endometrial', 'Breast', 'Breast',\n",
              "       'Endometrial', 'Breast', 'Renal Cell', 'Endometrial', 'Breast',\n",
              "       'Breast', 'Endometrial', 'Breast', 'Endometrial', 'Endometrial',\n",
              "       'Endometrial', 'Breast', 'Endometrial', 'Breast', 'Renal Cell',\n",
              "       'Breast', 'Endometrial', 'Renal Cell', 'Endometrial',\n",
              "       'Endometrial', 'Breast', 'Endometrial', 'Endometrial', 'Breast',\n",
              "       'Endometrial', 'Breast', 'Endometrial', 'Breast', 'Breast',\n",
              "       'Breast', 'Endometrial', 'Endometrial', 'Endometrial',\n",
              "       'Endometrial', 'Endometrial', 'Breast', 'Breast', 'Endometrial',\n",
              "       'Renal Cell', 'Breast', 'Endometrial', 'Renal Cell', 'Endometrial',\n",
              "       'Breast', 'Endometrial', 'Breast', 'Breast', 'Endometrial',\n",
              "       'Breast', 'Breast', 'Renal Cell', 'Breast', 'Endometrial',\n",
              "       'Head and Neck', 'Endometrial', 'Renal Cell', 'Endometrial',\n",
              "       'Endometrial', 'Breast', 'Head and Neck', 'Renal Cell',\n",
              "       'Endometrial', 'Breast', 'Endometrial', 'Endometrial', 'Breast',\n",
              "       'Breast', 'Renal Cell', 'Breast', 'Breast', 'Renal Cell',\n",
              "       'Endometrial', 'Breast', 'Endometrial', 'Endometrial', 'Breast',\n",
              "       'Endometrial', 'Breast', 'Endometrial', 'Endometrial', 'Breast',\n",
              "       'Endometrial', 'Endometrial', 'Endometrial', 'Breast',\n",
              "       'Endometrial', 'Breast', 'Endometrial', 'Endometrial', 'Breast',\n",
              "       'Renal Cell', 'Breast', 'Breast'], dtype=object)"
            ]
          },
          "metadata": {},
          "execution_count": 18
        }
      ],
      "source": [
        "y_pred_labels = label_encoder.inverse_transform(y_pred_classes)\n",
        "y_pred_labels"
      ]
    },
    {
      "cell_type": "code",
      "execution_count": 19,
      "metadata": {
        "colab": {
          "base_uri": "https://localhost:8080/"
        },
        "id": "5OE0YN6I2t8x",
        "outputId": "0f4cb845-79ad-4310-a772-d67e0419969a"
      },
      "outputs": [
        {
          "output_type": "stream",
          "name": "stdout",
          "text": [
            "Accuracy: 0.1187214611872146\n",
            "               precision    recall  f1-score   support\n",
            "\n",
            "        Brain       0.00      0.00      0.00        24\n",
            "       Breast       0.13      0.43      0.20        30\n",
            "  Endometrial       0.14      0.54      0.23        24\n",
            "Head and Neck       0.00      0.00      0.00        43\n",
            "         Lung       0.00      0.00      0.00        45\n",
            "      Ovarian       0.00      0.00      0.00        20\n",
            "   Renal Cell       0.00      0.00      0.00        33\n",
            "\n",
            "     accuracy                           0.12       219\n",
            "    macro avg       0.04      0.14      0.06       219\n",
            " weighted avg       0.03      0.12      0.05       219\n",
            "\n"
          ]
        },
        {
          "output_type": "stream",
          "name": "stderr",
          "text": [
            "/usr/local/lib/python3.10/dist-packages/sklearn/metrics/_classification.py:1565: UndefinedMetricWarning: Precision is ill-defined and being set to 0.0 in labels with no predicted samples. Use `zero_division` parameter to control this behavior.\n",
            "  _warn_prf(average, modifier, f\"{metric.capitalize()} is\", len(result))\n",
            "/usr/local/lib/python3.10/dist-packages/sklearn/metrics/_classification.py:1565: UndefinedMetricWarning: Precision is ill-defined and being set to 0.0 in labels with no predicted samples. Use `zero_division` parameter to control this behavior.\n",
            "  _warn_prf(average, modifier, f\"{metric.capitalize()} is\", len(result))\n",
            "/usr/local/lib/python3.10/dist-packages/sklearn/metrics/_classification.py:1565: UndefinedMetricWarning: Precision is ill-defined and being set to 0.0 in labels with no predicted samples. Use `zero_division` parameter to control this behavior.\n",
            "  _warn_prf(average, modifier, f\"{metric.capitalize()} is\", len(result))\n"
          ]
        }
      ],
      "source": [
        "print(\"Accuracy:\", accuracy_score(y_true_labels, y_pred_labels))\n",
        "print(classification_report(y_true, y_pred_classes, target_names=label_encoder.classes_))"
      ]
    },
    {
      "cell_type": "code",
      "execution_count": 20,
      "metadata": {
        "colab": {
          "base_uri": "https://localhost:8080/"
        },
        "id": "0BQ5aBQT2t8x",
        "outputId": "177ccd0e-6b22-435e-a8c2-4336dc6b7b0e"
      },
      "outputs": [
        {
          "output_type": "execute_result",
          "data": {
            "text/plain": [
              "array(['Renal Cell', 'Renal Cell', 'Endometrial', 'Endometrial',\n",
              "       'Renal Cell', 'Breast', 'Head and Neck', 'Lung', 'Breast',\n",
              "       'Renal Cell', 'Lung', 'Brain', 'Renal Cell', 'Lung', 'Breast',\n",
              "       'Brain', 'Brain', 'Lung', 'Ovarian', 'Breast', 'Breast', 'Ovarian',\n",
              "       'Endometrial', 'Lung', 'Renal Cell', 'Breast', 'Breast', 'Lung',\n",
              "       'Renal Cell', 'Head and Neck', 'Lung', 'Lung', 'Lung',\n",
              "       'Head and Neck', 'Ovarian', 'Ovarian', 'Endometrial',\n",
              "       'Head and Neck', 'Renal Cell', 'Brain', 'Head and Neck', 'Breast',\n",
              "       'Lung', 'Endometrial', 'Renal Cell', 'Head and Neck', 'Lung',\n",
              "       'Breast', 'Lung', 'Lung', 'Brain', 'Ovarian', 'Brain', 'Lung',\n",
              "       'Brain', 'Ovarian', 'Head and Neck', 'Breast', 'Endometrial',\n",
              "       'Lung', 'Endometrial', 'Lung', 'Renal Cell', 'Head and Neck',\n",
              "       'Breast', 'Head and Neck', 'Brain', 'Brain', 'Breast', 'Lung',\n",
              "       'Head and Neck', 'Ovarian', 'Endometrial', 'Renal Cell',\n",
              "       'Renal Cell', 'Endometrial', 'Renal Cell', 'Head and Neck',\n",
              "       'Endometrial', 'Renal Cell', 'Breast', 'Renal Cell', 'Breast',\n",
              "       'Head and Neck', 'Breast', 'Brain', 'Endometrial', 'Head and Neck',\n",
              "       'Lung', 'Brain', 'Renal Cell', 'Lung', 'Renal Cell', 'Breast',\n",
              "       'Ovarian', 'Brain', 'Head and Neck', 'Head and Neck',\n",
              "       'Endometrial', 'Lung', 'Lung', 'Head and Neck', 'Head and Neck',\n",
              "       'Renal Cell', 'Breast', 'Brain', 'Renal Cell', 'Head and Neck',\n",
              "       'Lung', 'Head and Neck', 'Endometrial', 'Ovarian', 'Renal Cell',\n",
              "       'Ovarian', 'Head and Neck', 'Ovarian', 'Ovarian', 'Head and Neck',\n",
              "       'Lung', 'Brain', 'Renal Cell', 'Renal Cell', 'Breast', 'Lung',\n",
              "       'Renal Cell', 'Lung', 'Head and Neck', 'Brain', 'Endometrial',\n",
              "       'Head and Neck', 'Renal Cell', 'Endometrial', 'Breast',\n",
              "       'Endometrial', 'Head and Neck', 'Head and Neck', 'Breast', 'Brain',\n",
              "       'Head and Neck', 'Renal Cell', 'Lung', 'Renal Cell',\n",
              "       'Head and Neck', 'Endometrial', 'Head and Neck', 'Head and Neck',\n",
              "       'Breast', 'Breast', 'Head and Neck', 'Lung', 'Brain', 'Renal Cell',\n",
              "       'Head and Neck', 'Lung', 'Ovarian', 'Brain', 'Lung', 'Lung',\n",
              "       'Endometrial', 'Lung', 'Lung', 'Renal Cell', 'Ovarian',\n",
              "       'Head and Neck', 'Brain', 'Ovarian', 'Breast', 'Lung', 'Breast',\n",
              "       'Ovarian', 'Endometrial', 'Ovarian', 'Renal Cell', 'Head and Neck',\n",
              "       'Lung', 'Lung', 'Lung', 'Renal Cell', 'Head and Neck', 'Lung',\n",
              "       'Lung', 'Brain', 'Head and Neck', 'Breast', 'Ovarian', 'Breast',\n",
              "       'Brain', 'Endometrial', 'Head and Neck', 'Breast', 'Head and Neck',\n",
              "       'Endometrial', 'Lung', 'Endometrial', 'Lung', 'Lung', 'Lung',\n",
              "       'Head and Neck', 'Brain', 'Head and Neck', 'Head and Neck',\n",
              "       'Brain', 'Ovarian', 'Lung', 'Breast', 'Head and Neck',\n",
              "       'Renal Cell', 'Brain', 'Head and Neck', 'Endometrial', 'Breast',\n",
              "       'Endometrial', 'Renal Cell', 'Breast', 'Head and Neck', 'Ovarian',\n",
              "       'Lung', 'Lung', 'Renal Cell'], dtype=object)"
            ]
          },
          "metadata": {},
          "execution_count": 20
        }
      ],
      "source": [
        "y_true_labels"
      ]
    },
    {
      "cell_type": "code",
      "execution_count": 21,
      "metadata": {
        "colab": {
          "base_uri": "https://localhost:8080/",
          "height": 451
        },
        "id": "H3FbxwfU2t8x",
        "outputId": "583718ba-1011-4d8e-bc0c-2c408a086c53"
      },
      "outputs": [
        {
          "output_type": "display_data",
          "data": {
            "text/plain": [
              "<Figure size 640x480 with 1 Axes>"
            ],
            "image/png": "[encoded data removed]"
          },
          "metadata": {}
        }
      ],
      "source": [
        "plt.plot(train_losses, label='Training Loss')\n",
        "plt.plot(val_losses, label='Validation Loss')\n",
        "plt.xlabel('Epoch')\n",
        "plt.ylabel('Loss')\n",
        "plt.legend()\n",
        "plt.show()"
      ]
    }
  ],
  "metadata": {
    "language_info": {
      "name": "python"
    },
    "colab": {
      "provenance": [],
      "gpuType": "T4"
    },
    "kernelspec": {
      "name": "python3",
      "display_name": "Python 3"
    },
    "accelerator": "GPU"
  },
  "nbformat": 4,
  "nbformat_minor": 0
}